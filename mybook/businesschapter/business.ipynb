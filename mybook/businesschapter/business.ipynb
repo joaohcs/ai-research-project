{
 "cells": [
  {
   "cell_type": "markdown",
   "metadata": {},
   "source": [
    "# Business\n",
    "\n",
    "This chapter is a set of reflections and discussions on how AI/ML can translate to business opportunities.\n",
    "\n",
    "Discussions here cover topics such as:\n",
    "\n",
    "- Use cases\n",
    "- Go-to-market strategies\n",
    "- Tech constraints\n",
    "- Major trends in different industries\n",
    "- Takes from Investors and Entrepreneurs on AI/ML theses\n",
    "\n"
   ]
  }
 ],
 "metadata": {
  "language_info": {
   "name": "python"
  }
 },
 "nbformat": 4,
 "nbformat_minor": 2
}
